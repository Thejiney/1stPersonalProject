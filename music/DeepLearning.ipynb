{
 "cells": [
  {
   "cell_type": "code",
   "execution_count": 13,
   "id": "ecdb20bc",
   "metadata": {},
   "outputs": [],
   "source": [
    "import numpy as np\n",
    "from tensorflow.keras.models import Sequential # 모델 생성\n",
    "from tensorflow.keras.layers import Dense, Input # 모델에 레이어 추가시\n",
    "import matplotlib.pyplot as plt\n",
    "from sklearn.model_selection import train_test_split\n",
    "from tensorflow.keras.callbacks import EarlyStopping\n",
    "import os\n",
    "from sklearn.metrics import confusion_matrix\n",
    "from sklearn.metrics import f1_score\n",
    "from tensorflow.keras import metrics # 성능지표들"
   ]
  },
  {
   "cell_type": "code",
   "execution_count": 2,
   "id": "12370e59",
   "metadata": {},
   "outputs": [
    {
     "data": {
      "text/plain": [
       "(291, 1)"
      ]
     },
     "execution_count": 2,
     "metadata": {},
     "output_type": "execute_result"
    }
   ],
   "source": [
    "X_data=np.load(r'd:/ai/Downloads/Data/music/종속변수.npy')\n",
    "# Y_data.shape  ==> (291,1)\n",
    "Y_data=np.zeros((291,1))\n",
    "Y_data[120:,:]=1\n",
    "Y_data.shape"
   ]
  },
  {
   "cell_type": "code",
   "execution_count": 3,
   "id": "17cf8235",
   "metadata": {},
   "outputs": [
    {
     "data": {
      "text/plain": [
       "(291, 38, 1138)"
      ]
     },
     "execution_count": 3,
     "metadata": {},
     "output_type": "execute_result"
    }
   ],
   "source": [
    "X_data.shape"
   ]
  },
  {
   "cell_type": "code",
   "execution_count": 4,
   "id": "182fd221",
   "metadata": {},
   "outputs": [],
   "source": [
    "X_data=X_data.reshape(-1,38*1138)"
   ]
  },
  {
   "cell_type": "code",
   "execution_count": 5,
   "id": "d767e9df",
   "metadata": {},
   "outputs": [
    {
     "data": {
      "text/plain": [
       "(291, 43244)"
      ]
     },
     "execution_count": 5,
     "metadata": {},
     "output_type": "execute_result"
    }
   ],
   "source": [
    "X_data.shape"
   ]
  },
  {
   "cell_type": "code",
   "execution_count": 6,
   "id": "f5346fc3",
   "metadata": {},
   "outputs": [],
   "source": [
    "X_train, X_test, y_train, y_test = train_test_split(X_data, Y_data, test_size=0.2, random_state=42)"
   ]
  },
  {
   "cell_type": "code",
   "execution_count": 24,
   "id": "cea99973",
   "metadata": {},
   "outputs": [
    {
     "name": "stdout",
     "output_type": "stream",
     "text": [
      "Model: \"sequential_1\"\n",
      "_________________________________________________________________\n",
      " Layer (type)                Output Shape              Param #   \n",
      "=================================================================\n",
      " dense_5 (Dense)             (None, 32)                1383840   \n",
      "                                                                 \n",
      " dense_6 (Dense)             (None, 64)                2112      \n",
      "                                                                 \n",
      " dense_7 (Dense)             (None, 128)               8320      \n",
      "                                                                 \n",
      " dense_8 (Dense)             (None, 32)                4128      \n",
      "                                                                 \n",
      " dense_9 (Dense)             (None, 1)                 33        \n",
      "                                                                 \n",
      "=================================================================\n",
      "Total params: 1,398,433\n",
      "Trainable params: 1,398,433\n",
      "Non-trainable params: 0\n",
      "_________________________________________________________________\n"
     ]
    }
   ],
   "source": [
    "model = Sequential()\n",
    "model.add(Input(shape=(38*1138,)))\n",
    "model.add(Dense(units=32, activation='relu'))\n",
    "model.add(Dense(units=64, activation='relu'))\n",
    "model.add(Dense(units=128, activation='relu'))\n",
    "model.add(Dense(units=32, activation='relu'))\n",
    "model.add(Dense(units=1, activation='sigmoid'))\n",
    "model.summary()"
   ]
  },
  {
   "cell_type": "code",
   "execution_count": 18,
   "id": "57b47091",
   "metadata": {},
   "outputs": [],
   "source": [
    "model.compile(loss='binary_crossentropy', optimizer='adam', metrics=['binary_accuracy',metrics.Recall(), metrics.Precision()])"
   ]
  },
  {
   "cell_type": "code",
   "execution_count": 15,
   "id": "e55034bc",
   "metadata": {
    "scrolled": false
   },
   "outputs": [
    {
     "name": "stdout",
     "output_type": "stream",
     "text": [
      "Epoch 1/200\n",
      "6/6 [==============================] - 2s 98ms/step - loss: 0.3998 - binary_accuracy: 0.9514 - recall: 0.9369 - precision: 0.9811 - val_loss: 2.1397 - val_binary_accuracy: 0.9149 - val_recall: 0.9286 - val_precision: 0.9286\n",
      "Epoch 2/200\n",
      "6/6 [==============================] - 0s 20ms/step - loss: 0.2772 - binary_accuracy: 0.9622 - recall: 1.0000 - precision: 0.9407 - val_loss: 3.0445 - val_binary_accuracy: 0.9149 - val_recall: 0.9286 - val_precision: 0.9286\n",
      "Epoch 3/200\n",
      "6/6 [==============================] - 0s 19ms/step - loss: 0.1359 - binary_accuracy: 0.9838 - recall: 0.9730 - precision: 1.0000 - val_loss: 2.6585 - val_binary_accuracy: 0.9149 - val_recall: 0.9286 - val_precision: 0.9286\n",
      "Epoch 4/200\n",
      "6/6 [==============================] - 0s 23ms/step - loss: 0.0166 - binary_accuracy: 0.9946 - recall: 0.9910 - precision: 1.0000 - val_loss: 3.0765 - val_binary_accuracy: 0.8511 - val_recall: 0.9286 - val_precision: 0.8387\n",
      "Epoch 5/200\n",
      "6/6 [==============================] - 0s 23ms/step - loss: 0.0236 - binary_accuracy: 0.9946 - recall: 1.0000 - precision: 0.9911 - val_loss: 2.4344 - val_binary_accuracy: 0.9362 - val_recall: 0.9286 - val_precision: 0.9630\n",
      "Epoch 6/200\n",
      "6/6 [==============================] - 0s 22ms/step - loss: 0.0199 - binary_accuracy: 0.9892 - recall: 0.9820 - precision: 1.0000 - val_loss: 2.8337 - val_binary_accuracy: 0.9149 - val_recall: 0.9643 - val_precision: 0.9000\n",
      "Epoch 7/200\n",
      "6/6 [==============================] - 0s 23ms/step - loss: 0.0044 - binary_accuracy: 0.9946 - recall: 1.0000 - precision: 0.9911 - val_loss: 3.4742 - val_binary_accuracy: 0.8936 - val_recall: 0.9643 - val_precision: 0.8710\n",
      "Epoch 8/200\n",
      "6/6 [==============================] - 0s 23ms/step - loss: 0.0161 - binary_accuracy: 0.9946 - recall: 1.0000 - precision: 0.9911 - val_loss: 2.8192 - val_binary_accuracy: 0.9149 - val_recall: 0.9643 - val_precision: 0.9000\n",
      "Epoch 9/200\n",
      "6/6 [==============================] - 0s 22ms/step - loss: 0.0255 - binary_accuracy: 0.9946 - recall: 0.9910 - precision: 1.0000 - val_loss: 2.4764 - val_binary_accuracy: 0.8936 - val_recall: 0.9286 - val_precision: 0.8966\n",
      "Epoch 10/200\n",
      "6/6 [==============================] - 0s 24ms/step - loss: 2.2313e-06 - binary_accuracy: 1.0000 - recall: 1.0000 - precision: 1.0000 - val_loss: 5.9948 - val_binary_accuracy: 0.8085 - val_recall: 0.9643 - val_precision: 0.7714\n",
      "Epoch 11/200\n",
      "6/6 [==============================] - 0s 22ms/step - loss: 0.1537 - binary_accuracy: 0.9892 - recall: 1.0000 - precision: 0.9823 - val_loss: 2.4802 - val_binary_accuracy: 0.9362 - val_recall: 0.9286 - val_precision: 0.9630\n",
      "Epoch 12/200\n",
      "6/6 [==============================] - 0s 19ms/step - loss: 0.1812 - binary_accuracy: 0.9730 - recall: 0.9550 - precision: 1.0000 - val_loss: 2.3769 - val_binary_accuracy: 0.9362 - val_recall: 0.9286 - val_precision: 0.9630\n",
      "Epoch 13/200\n",
      "6/6 [==============================] - 0s 23ms/step - loss: 0.3053 - binary_accuracy: 0.9784 - recall: 0.9910 - precision: 0.9735 - val_loss: 6.8888 - val_binary_accuracy: 0.8511 - val_recall: 0.9643 - val_precision: 0.8182\n",
      "Epoch 14/200\n",
      "6/6 [==============================] - 0s 23ms/step - loss: 0.0446 - binary_accuracy: 0.9838 - recall: 0.9910 - precision: 0.9821 - val_loss: 4.5989 - val_binary_accuracy: 0.9362 - val_recall: 0.9643 - val_precision: 0.9310\n",
      "Epoch 15/200\n",
      "6/6 [==============================] - 0s 20ms/step - loss: 0.2183 - binary_accuracy: 0.9946 - recall: 0.9910 - precision: 1.0000 - val_loss: 4.1573 - val_binary_accuracy: 0.9362 - val_recall: 0.9643 - val_precision: 0.9310\n",
      "Epoch 16/200\n",
      "6/6 [==============================] - 0s 21ms/step - loss: 5.6922e-04 - binary_accuracy: 1.0000 - recall: 1.0000 - precision: 1.0000 - val_loss: 4.3042 - val_binary_accuracy: 0.9149 - val_recall: 0.9643 - val_precision: 0.9000\n",
      "Epoch 17/200\n",
      "6/6 [==============================] - 0s 25ms/step - loss: 1.7462e-05 - binary_accuracy: 1.0000 - recall: 1.0000 - precision: 1.0000 - val_loss: 4.6479 - val_binary_accuracy: 0.9149 - val_recall: 0.9643 - val_precision: 0.9000\n",
      "Epoch 18/200\n",
      "6/6 [==============================] - 0s 22ms/step - loss: 2.5889e-05 - binary_accuracy: 1.0000 - recall: 1.0000 - precision: 1.0000 - val_loss: 4.7219 - val_binary_accuracy: 0.9149 - val_recall: 0.9643 - val_precision: 0.9000\n",
      "Epoch 19/200\n",
      "6/6 [==============================] - 0s 22ms/step - loss: 6.5767e-06 - binary_accuracy: 1.0000 - recall: 1.0000 - precision: 1.0000 - val_loss: 4.6904 - val_binary_accuracy: 0.9149 - val_recall: 0.9643 - val_precision: 0.9000\n",
      "Epoch 20/200\n",
      "6/6 [==============================] - 0s 21ms/step - loss: 2.6424e-06 - binary_accuracy: 1.0000 - recall: 1.0000 - precision: 1.0000 - val_loss: 4.6163 - val_binary_accuracy: 0.9149 - val_recall: 0.9643 - val_precision: 0.9000\n",
      "Epoch 21/200\n",
      "6/6 [==============================] - 0s 23ms/step - loss: 5.7941e-07 - binary_accuracy: 1.0000 - recall: 1.0000 - precision: 1.0000 - val_loss: 4.5622 - val_binary_accuracy: 0.9149 - val_recall: 0.9643 - val_precision: 0.9000\n",
      "Epoch 22/200\n",
      "6/6 [==============================] - 0s 29ms/step - loss: 1.6262e-07 - binary_accuracy: 1.0000 - recall: 1.0000 - precision: 1.0000 - val_loss: 4.5248 - val_binary_accuracy: 0.9149 - val_recall: 0.9643 - val_precision: 0.9000\n",
      "Epoch 23/200\n",
      "6/6 [==============================] - 0s 23ms/step - loss: 1.2208e-07 - binary_accuracy: 1.0000 - recall: 1.0000 - precision: 1.0000 - val_loss: 4.4969 - val_binary_accuracy: 0.9149 - val_recall: 0.9643 - val_precision: 0.9000\n",
      "Epoch 24/200\n",
      "6/6 [==============================] - 0s 22ms/step - loss: 5.0143e-08 - binary_accuracy: 1.0000 - recall: 1.0000 - precision: 1.0000 - val_loss: 4.4809 - val_binary_accuracy: 0.9149 - val_recall: 0.9643 - val_precision: 0.9000\n",
      "Epoch 25/200\n",
      "6/6 [==============================] - 0s 24ms/step - loss: 3.3752e-08 - binary_accuracy: 1.0000 - recall: 1.0000 - precision: 1.0000 - val_loss: 4.4712 - val_binary_accuracy: 0.9149 - val_recall: 0.9643 - val_precision: 0.9000\n",
      "Epoch 26/200\n",
      "6/6 [==============================] - 0s 24ms/step - loss: 2.7991e-08 - binary_accuracy: 1.0000 - recall: 1.0000 - precision: 1.0000 - val_loss: 4.4644 - val_binary_accuracy: 0.9149 - val_recall: 0.9643 - val_precision: 0.9000\n",
      "Epoch 27/200\n",
      "6/6 [==============================] - 0s 24ms/step - loss: 2.4481e-08 - binary_accuracy: 1.0000 - recall: 1.0000 - precision: 1.0000 - val_loss: 4.4593 - val_binary_accuracy: 0.9149 - val_recall: 0.9643 - val_precision: 0.9000\n",
      "Epoch 28/200\n",
      "6/6 [==============================] - 0s 21ms/step - loss: 2.3479e-08 - binary_accuracy: 1.0000 - recall: 1.0000 - precision: 1.0000 - val_loss: 4.4547 - val_binary_accuracy: 0.9149 - val_recall: 0.9643 - val_precision: 0.9000\n",
      "Epoch 29/200\n",
      "6/6 [==============================] - 0s 23ms/step - loss: 2.0234e-08 - binary_accuracy: 1.0000 - recall: 1.0000 - precision: 1.0000 - val_loss: 4.4518 - val_binary_accuracy: 0.9149 - val_recall: 0.9643 - val_precision: 0.9000\n",
      "Epoch 30/200\n",
      "6/6 [==============================] - 0s 22ms/step - loss: 1.9700e-08 - binary_accuracy: 1.0000 - recall: 1.0000 - precision: 1.0000 - val_loss: 4.4487 - val_binary_accuracy: 0.9149 - val_recall: 0.9643 - val_precision: 0.9000\n",
      "Epoch 31/200\n",
      "6/6 [==============================] - 0s 19ms/step - loss: 1.8317e-08 - binary_accuracy: 1.0000 - recall: 1.0000 - precision: 1.0000 - val_loss: 4.4461 - val_binary_accuracy: 0.9149 - val_recall: 0.9643 - val_precision: 0.9000\n",
      "Epoch 32/200\n",
      "6/6 [==============================] - 0s 19ms/step - loss: 1.7173e-08 - binary_accuracy: 1.0000 - recall: 1.0000 - precision: 1.0000 - val_loss: 4.4441 - val_binary_accuracy: 0.9149 - val_recall: 0.9643 - val_precision: 0.9000\n",
      "Epoch 33/200\n",
      "6/6 [==============================] - 0s 20ms/step - loss: 1.6388e-08 - binary_accuracy: 1.0000 - recall: 1.0000 - precision: 1.0000 - val_loss: 4.4422 - val_binary_accuracy: 0.9149 - val_recall: 0.9643 - val_precision: 0.9000\n",
      "Epoch 34/200\n",
      "6/6 [==============================] - 0s 20ms/step - loss: 1.5623e-08 - binary_accuracy: 1.0000 - recall: 1.0000 - precision: 1.0000 - val_loss: 4.4406 - val_binary_accuracy: 0.9362 - val_recall: 0.9643 - val_precision: 0.9310\n",
      "Epoch 35/200\n"
     ]
    },
    {
     "name": "stdout",
     "output_type": "stream",
     "text": [
      "6/6 [==============================] - 0s 20ms/step - loss: 1.4972e-08 - binary_accuracy: 1.0000 - recall: 1.0000 - precision: 1.0000 - val_loss: 4.4391 - val_binary_accuracy: 0.9362 - val_recall: 0.9643 - val_precision: 0.9310\n",
      "Epoch 36/200\n",
      "6/6 [==============================] - 0s 20ms/step - loss: 1.4661e-08 - binary_accuracy: 1.0000 - recall: 1.0000 - precision: 1.0000 - val_loss: 4.4372 - val_binary_accuracy: 0.9362 - val_recall: 0.9643 - val_precision: 0.9310\n",
      "Epoch 37/200\n",
      "6/6 [==============================] - 0s 20ms/step - loss: 1.3921e-08 - binary_accuracy: 1.0000 - recall: 1.0000 - precision: 1.0000 - val_loss: 4.4357 - val_binary_accuracy: 0.9362 - val_recall: 0.9643 - val_precision: 0.9310\n",
      "Epoch 38/200\n",
      "6/6 [==============================] - 0s 23ms/step - loss: 1.3439e-08 - binary_accuracy: 1.0000 - recall: 1.0000 - precision: 1.0000 - val_loss: 4.4342 - val_binary_accuracy: 0.9362 - val_recall: 0.9643 - val_precision: 0.9310\n",
      "Epoch 39/200\n",
      "6/6 [==============================] - 0s 22ms/step - loss: 1.2886e-08 - binary_accuracy: 1.0000 - recall: 1.0000 - precision: 1.0000 - val_loss: 4.4330 - val_binary_accuracy: 0.9362 - val_recall: 0.9643 - val_precision: 0.9310\n",
      "Epoch 40/200\n",
      "6/6 [==============================] - 0s 21ms/step - loss: 1.2438e-08 - binary_accuracy: 1.0000 - recall: 1.0000 - precision: 1.0000 - val_loss: 4.4314 - val_binary_accuracy: 0.9362 - val_recall: 0.9643 - val_precision: 0.9310\n",
      "Epoch 41/200\n",
      "6/6 [==============================] - 0s 20ms/step - loss: 1.2164e-08 - binary_accuracy: 1.0000 - recall: 1.0000 - precision: 1.0000 - val_loss: 4.4295 - val_binary_accuracy: 0.9362 - val_recall: 0.9643 - val_precision: 0.9310\n"
     ]
    }
   ],
   "source": [
    "earlyStopping = EarlyStopping(patience=40)\n",
    "hist = model.fit(X_train, y_train,\n",
    "                 epochs=200,\n",
    "                 validation_split=0.2,\n",
    "                 callbacks=[earlyStopping]\n",
    "                )"
   ]
  },
  {
   "cell_type": "code",
   "execution_count": 16,
   "id": "9775dac6",
   "metadata": {},
   "outputs": [
    {
     "data": {
      "image/png": "[encoded data removed]",
      "text/plain": [
       "<Figure size 1200x500 with 2 Axes>"
      ]
     },
     "metadata": {},
     "output_type": "display_data"
    }
   ],
   "source": [
    "# 학습과정 표시하기(validation dataset 없는 경우)\n",
    "fig, loss_ax = plt.subplots(figsize=(12,5))\n",
    "plt.rcParams['font.size'] = 14\n",
    "loss_ax.plot(hist.history['loss'], 'r', label='train loss')\n",
    "loss_ax.plot(hist.history['val_loss'], 'y', label='validation loss')\n",
    "loss_ax.set_xlabel('epoch')\n",
    "loss_ax.set_ylabel('loss')\n",
    "acc_ax = loss_ax.twinx()\n",
    "acc_ax.plot(hist.history['binary_accuracy'], 'b', label='train accuracy')\n",
    "acc_ax.plot(hist.history['val_binary_accuracy'], 'g', label='validation accuracy')\n",
    "acc_ax.set_ylabel('accuracy')\n",
    "loss_ax.legend(loc='center right')\n",
    "acc_ax.legend(bbox_to_anchor=(0.999, 0.45))\n",
    "plt.rcParams['font.size'] = 28\n",
    "plt.show()"
   ]
  },
  {
   "cell_type": "code",
   "execution_count": 28,
   "id": "87c06259",
   "metadata": {},
   "outputs": [
    {
     "name": "stdout",
     "output_type": "stream",
     "text": [
      "8/8 [==============================] - 0s 4ms/step - loss: 0.4357 - binary_accuracy: 0.9828\n"
     ]
    },
    {
     "data": {
      "text/plain": [
       "[0.4356781542301178, 0.982758641242981]"
      ]
     },
     "execution_count": 28,
     "metadata": {},
     "output_type": "execute_result"
    }
   ],
   "source": [
    "model.evaluate(X_train, y_train)"
   ]
  },
  {
   "cell_type": "code",
   "execution_count": 19,
   "id": "195a9b29",
   "metadata": {
    "scrolled": true
   },
   "outputs": [
    {
     "name": "stdout",
     "output_type": "stream",
     "text": [
      "2/2 [==============================] - 0s 6ms/step - loss: 6.0675e-05 - binary_accuracy: 1.0000 - recall_1: 1.0000 - precision_1: 1.0000\n",
      "model loss : 6.0675065469695255e-05\n",
      "model accuracy : 1.0\n",
      "model recall : 1.0\n",
      "model precision : 1.0\n"
     ]
    }
   ],
   "source": [
    "# 모델 평가\n",
    "score = model.evaluate(X_test, y_test)\n",
    "print('model loss :', score[0])\n",
    "print('model accuracy :', score[1])\n",
    "print('model recall :', score[2])\n",
    "print('model precision :', score[3])"
   ]
  },
  {
   "cell_type": "code",
   "execution_count": 20,
   "id": "9f3bbcbd",
   "metadata": {},
   "outputs": [
    {
     "name": "stdout",
     "output_type": "stream",
     "text": [
      "2/2 [==============================] - 0s 4ms/step\n",
      "(59, 1)\n",
      "[[27  0]\n",
      " [ 0 32]]\n",
      "f1 score : 1.0\n"
     ]
    }
   ],
   "source": [
    "y_hat = (model.predict(X_test)>0.5).astype(int)\n",
    "print(y_hat.shape)\n",
    "print(confusion_matrix(y_test, y_hat))\n",
    "print('f1 score :', f1_score(y_test, y_hat))"
   ]
  },
  {
   "cell_type": "code",
   "execution_count": 30,
   "id": "c5ef45b5",
   "metadata": {
    "scrolled": true
   },
   "outputs": [],
   "source": [
    "model.save('model/music_model.h5')\n",
    "model_json = model.to_json()\n",
    "with open('model/music_model.json','w') as f:\n",
    "    f.write(model_json)"
   ]
  },
  {
   "cell_type": "code",
   "execution_count": 17,
   "id": "560ced84",
   "metadata": {},
   "outputs": [],
   "source": [
    "# 학습된 모델 로드하기\n",
    "from tensorflow.keras.models import load_model\n",
    "model = load_model('model/music_model.h5')"
   ]
  },
  {
   "cell_type": "code",
   "execution_count": 9,
   "id": "5ca36fb8",
   "metadata": {},
   "outputs": [
    {
     "name": "stdout",
     "output_type": "stream",
     "text": [
      "1138\n",
      "(88, 43244)\n"
     ]
    }
   ],
   "source": [
    "# 모델 사용\n",
    "X_data=np.load(r'd:/ai/Downloads/Data/music/melon.npy')\n",
    "print(X_data.shape[2])\n",
    "X_data=X_data.reshape(-1,38*X_data.shape[2])\n",
    "print(X_data.shape)"
   ]
  },
  {
   "cell_type": "code",
   "execution_count": 6,
   "id": "f127040b",
   "metadata": {},
   "outputs": [
    {
     "name": "stdout",
     "output_type": "stream",
     "text": [
      "3/3 [==============================] - 0s 5ms/step\n"
     ]
    }
   ],
   "source": [
    "Y=model.predict(X_data)"
   ]
  },
  {
   "cell_type": "code",
   "execution_count": 7,
   "id": "b58f4eff",
   "metadata": {},
   "outputs": [],
   "source": [
    "Y=(Y[:,0])"
   ]
  },
  {
   "cell_type": "code",
   "execution_count": 8,
   "id": "ec666199",
   "metadata": {},
   "outputs": [
    {
     "data": {
      "text/plain": [
       "array([1.0000000e+00, 1.0000000e+00, 1.0000000e+00, 1.0000000e+00,\n",
       "       9.8488633e-25, 1.0000000e+00, 1.0000000e+00, 1.0000000e+00,\n",
       "       1.0000000e+00, 1.0000000e+00, 1.0000000e+00, 3.1131177e-21,\n",
       "       1.0000000e+00, 1.0000000e+00, 1.0000000e+00, 1.0000000e+00,\n",
       "       1.0000000e+00, 1.0000000e+00, 5.8594648e-16, 9.9999774e-01,\n",
       "       1.0000000e+00, 9.7722000e-01, 1.0000000e+00, 1.0000000e+00,\n",
       "       1.8518738e-18, 5.6232333e-02, 3.3155415e-04, 1.0000000e+00,\n",
       "       1.0000000e+00, 1.0000000e+00, 8.1670535e-01, 6.6142940e-29,\n",
       "       3.3740568e-19, 3.1681368e-04, 9.7608745e-01, 9.9999994e-01,\n",
       "       1.2923721e-11, 1.4563652e-12, 1.9847516e-03, 1.2346097e-06,\n",
       "       1.0000000e+00, 2.3010876e-22, 1.0000000e+00, 5.6631489e-19,\n",
       "       1.0000000e+00, 8.5557329e-17, 9.9999988e-01, 1.0000000e+00,\n",
       "       1.8835825e-10, 6.3963981e-09, 1.0000000e+00, 9.9745476e-01,\n",
       "       2.4955759e-06, 9.9999249e-01, 4.1685127e-02, 2.8760189e-07,\n",
       "       9.3859100e-01, 0.0000000e+00, 5.1541500e-09, 2.8767522e-02,\n",
       "       9.5181149e-01, 1.0000000e+00, 1.0000000e+00, 1.0000000e+00,\n",
       "       1.0000000e+00, 1.0000000e+00, 1.0000000e+00, 1.0000000e+00,\n",
       "       9.9476236e-01, 9.9971318e-01, 1.0593579e-03, 2.4922832e-03,\n",
       "       1.5280806e-07, 8.0595407e-23, 9.7764844e-01, 1.0000000e+00,\n",
       "       4.8496351e-22, 1.0000000e+00, 1.0000000e+00, 1.6867480e-04,\n",
       "       1.0000000e+00, 1.0000000e+00, 3.8215145e-04, 1.0000000e+00,\n",
       "       1.4880129e-02, 2.4428555e-11, 5.7103283e-20, 6.7751837e-01],\n",
       "      dtype=float32)"
      ]
     },
     "execution_count": 8,
     "metadata": {},
     "output_type": "execute_result"
    }
   ],
   "source": [
    "Y"
   ]
  },
  {
   "cell_type": "code",
   "execution_count": 9,
   "id": "bb513a6e",
   "metadata": {},
   "outputs": [],
   "source": [
    "filepath=r'd:/ai/Downloads/Data/music/Melon Daily Top 100 _ 멜론 일간차트/'\n",
    "filelist=os.listdir(filepath)"
   ]
  },
  {
   "cell_type": "code",
   "execution_count": 10,
   "id": "1657cfb3",
   "metadata": {},
   "outputs": [
    {
     "data": {
      "text/plain": [
       "['(G)I-DLE - Fate (나는 아픈 건 딱 질색이니까).wav',\n",
       " '(G)I-DLE - Klaxon (클락션 (Klaxon)).wav',\n",
       " 'aespa - Drama.wav',\n",
       " 'aespa - UP (KARINA Solo).wav',\n",
       " 'AKMU - 어떻게 이별까지 사랑하겠어, 널 사랑하는 거지 (How can I love the heartbreak, you`re the one I love).wav',\n",
       " 'BABYMONSTER - DRIP.wav',\n",
       " 'BIGBANG - 봄여름가을겨울 (Still Life).wav',\n",
       " 'BOYNEXTDOOR - 오늘만 I LOVE YOU.wav',\n",
       " 'BSS (SEVENTEEN) - 청바지.wav',\n",
       " 'BTS (방탄소년단) - Dynamite.wav',\n",
       " 'BTS (방탄소년단) - 봄날.wav',\n",
       " 'Crush - 미안해 미워해 사랑해.wav',\n",
       " 'DAY6 - Congratulations.wav',\n",
       " 'DAY6 - HAPPY.wav',\n",
       " 'DAY6 - Welcome to the Show.wav',\n",
       " 'DAY6 - 녹아내려요 Melt Down.wav',\n",
       " 'DAY6 - 예뻤어 You Were Beautiful.wav',\n",
       " 'DAY6 - 한 페이지가 될 수 있게 Time of Our Life.wav',\n",
       " 'ECLIPSE - Sudden Shower.wav',\n",
       " 'EXO - 첫 눈 The First Snow.wav',\n",
       " 'fromis_9 - Supersonic.wav',\n",
       " 'G-DRAGON - 무제 (無題) (Untitled, 2014).wav',\n",
       " 'GFRIEND - 우리의 다정한 계절 속에 (Season of Memories).wav',\n",
       " 'GyeongseoYeji, Jeon Gunho - If you lovingly call my name (다정히 내 이름을 부르면).wav',\n",
       " 'Hwang Karam, woozoobe, lunch, lunch - I`m Firefly (나는 반딧불).wav',\n",
       " 'ILLIT - Cherish (My Love).wav',\n",
       " 'ILLIT - Magnetic.wav',\n",
       " 'IU, Donghwan Seo, Donghwan Seo, IU - Love wins all (Love wins all).wav',\n",
       " 'IVE - Queen of Hearts.wav',\n",
       " 'JAESSBEE, Hwang Hyun (MonoTree), Hwang Hyun (MonoTree), JeA (MonoTree), Kim Eana, J SQUARE - Every Moment With You (너와의 모든 지금).wav',\n",
       " 'JANNABI(잔나비) - for lovers who hesitate (주저하는 연인들을 위해).wav',\n",
       " 'Jung Seung Hwan - The Snowman (눈사람).wav',\n",
       " 'Kim Min Seok - DrunKen Confession.wav',\n",
       " 'KISS OF LIFE - Sticky (Sticky).wav',\n",
       " 'KISS OF LIFE, Hiss noise - Igloo (Igloo).wav',\n",
       " 'Lee Mujin - Coming Of Age Story.wav',\n",
       " 'Lee Mujin - Propose.wav',\n",
       " 'Lee Mujin, Heize - When it snows (Feat.Heize) (눈이 오잖아(Feat.헤이즈)).wav',\n",
       " 'Lee Young ji, D.O., PEEJAY, PEEJAY, Lee Young Ji, Lee Young Ji - Small girl (feat. D.O.) (Small girl).wav',\n",
       " 'Lim Jae Hyun - Rhapsody of Sadness.wav',\n",
       " 'Lim Young Woong - Do or Die (Do or Die).wav',\n",
       " 'Lim Young Woong - Grain of Sand (모래 알갱이).wav',\n",
       " 'Lim Young Woong - Home (Home).wav',\n",
       " 'Lim Young Woong - If We Ever Meet Again (다시 만날 수 있을까).wav',\n",
       " 'Lim Young Woong - London Boy.wav',\n",
       " 'Lim Young Woong - Our Blues, Our Life (우리들의 블루스).wav',\n",
       " 'Lim Young Woong - Polaroid.wav',\n",
       " 'Lim Young Woong - Rainbow (무지개).wav',\n",
       " 'Lim Young Woong - Trust in me (이제 나만 믿어요).wav',\n",
       " 'Lim Young Woong - Warmth (온기).wav',\n",
       " 'Maktub - 시작의 아이 ハジマリのコ (Starting With You).wav',\n",
       " 'MeloMance, Jeong DongHwan, MeloMance, Kim Min Seok - Love, Maybe (사랑인가 봐).wav',\n",
       " 'Nerd Connection - If I have you only (My love X Nerd Connection) (그대만 있다면 (여름날 우리 X 너드커넥션)).wav',\n",
       " 'NewJeans - Bubble Gum.wav',\n",
       " 'NewJeans - Ditto.wav',\n",
       " 'NewJeans - How Sweet.wav',\n",
       " 'NewJeans - Hype Boy.wav',\n",
       " 'Park Hyo Shin - HERO (From the Film ″Firefighters″).wav',\n",
       " 'Paul Kim - 모든 날, 모든 순간 Every day, Every Moment.wav',\n",
       " 'PLAVE - From.wav',\n",
       " 'PLAVE - Our Movie.wav',\n",
       " 'PLAVE - Pump Up The Volume!.wav',\n",
       " 'PLAVE - Virtual Idol.wav',\n",
       " 'PLAVE - Watch Me Woo!.wav',\n",
       " 'PLAVE - WAY 4 LUV.wav',\n",
       " 'QWER, Daily, JEON SOYEON, Likey, Pop Time, Daily, Likey, Pop Time, JEON SOYEON, JEON SOYEON - My Name is Malguem (내 이름 맑음).wav',\n",
       " 'QWER, Lee DongHyuk, Ayoung Han, Lee DongHyuk, HunGi Hong, Elum, GESTURE, Ayoung Han, Lee DongHyuk, GESTURE, Kim HyeJung, Elum, Magenta - T.B.H (고민중독).wav',\n",
       " 'RIIZE - Boom Boom Bass.wav',\n",
       " 'RIIZE - Hug.wav',\n",
       " 'RIIZE - Love 119.wav',\n",
       " 'Roy Kim - If You Ask Me What Love Is.wav',\n",
       " 'Seven (feat. Latto) - Clean Ver..wav',\n",
       " 'SoonSoonHee - To live.wav',\n",
       " 'Sung Si Kyung - Every moment of you (너의 모든 순간).wav',\n",
       " 'TAEYEON - To. X.wav',\n",
       " 'TWS - 첫 만남은 계획대로 되지 않아.wav',\n",
       " 'Woody - Flower in the Desert (Kor Version).wav',\n",
       " 'WOODZ, NATHAN, HOHO, WOODZ, NATHAN, HOHO, WOODZ - Drowning (Drowning).wav',\n",
       " 'YENA - NEMONEMO.wav',\n",
       " 'YOON JI HWAN - a sad invitation.wav',\n",
       " 'YOUNHA, JEWNO, SHAUN, YOUNHA, JEWNO, YOUNHA - Event Horizon (사건의 지평선).wav',\n",
       " 'ZICO, JENNIE - SPOT! (feat. JENNIE).wav',\n",
       " '범진(BUMJIN) - 인사.wav',\n",
       " '부석순 (SEVENTEEN) - 파이팅 해야지 (Feat. 이영지).wav',\n",
       " '이무진 - Episode.wav',\n",
       " '이창섭 - Heavenly fate.wav',\n",
       " '임영웅 - 사랑은 늘 도망가.wav',\n",
       " '카더가든 (Car, the garden) - 가까운 듯 먼 그대여 (Closely Far Away).wav']"
      ]
     },
     "execution_count": 10,
     "metadata": {},
     "output_type": "execute_result"
    }
   ],
   "source": [
    "filelist"
   ]
  },
  {
   "cell_type": "code",
   "execution_count": 15,
   "id": "f76c5227",
   "metadata": {},
   "outputs": [],
   "source": [
    "answer=[filename for filename, y in zip(filelist,Y) if y >= 0.7]"
   ]
  },
  {
   "cell_type": "code",
   "execution_count": 16,
   "id": "a65300bd",
   "metadata": {
    "scrolled": false
   },
   "outputs": [
    {
     "data": {
      "text/plain": [
       "['(G)I-DLE - Fate (나는 아픈 건 딱 질색이니까).wav',\n",
       " '(G)I-DLE - Klaxon (클락션 (Klaxon)).wav',\n",
       " 'aespa - Drama.wav',\n",
       " 'aespa - UP (KARINA Solo).wav',\n",
       " 'BABYMONSTER - DRIP.wav',\n",
       " 'BIGBANG - 봄여름가을겨울 (Still Life).wav',\n",
       " 'BOYNEXTDOOR - 오늘만 I LOVE YOU.wav',\n",
       " 'BSS (SEVENTEEN) - 청바지.wav',\n",
       " 'BTS (방탄소년단) - Dynamite.wav',\n",
       " 'BTS (방탄소년단) - 봄날.wav',\n",
       " 'DAY6 - Congratulations.wav',\n",
       " 'DAY6 - HAPPY.wav',\n",
       " 'DAY6 - Welcome to the Show.wav',\n",
       " 'DAY6 - 녹아내려요 Melt Down.wav',\n",
       " 'DAY6 - 예뻤어 You Were Beautiful.wav',\n",
       " 'DAY6 - 한 페이지가 될 수 있게 Time of Our Life.wav',\n",
       " 'EXO - 첫 눈 The First Snow.wav',\n",
       " 'fromis_9 - Supersonic.wav',\n",
       " 'G-DRAGON - 무제 (無題) (Untitled, 2014).wav',\n",
       " 'GFRIEND - 우리의 다정한 계절 속에 (Season of Memories).wav',\n",
       " 'GyeongseoYeji, Jeon Gunho - If you lovingly call my name (다정히 내 이름을 부르면).wav',\n",
       " 'IU, Donghwan Seo, Donghwan Seo, IU - Love wins all (Love wins all).wav',\n",
       " 'IVE - Queen of Hearts.wav',\n",
       " 'JAESSBEE, Hwang Hyun (MonoTree), Hwang Hyun (MonoTree), JeA (MonoTree), Kim Eana, J SQUARE - Every Moment With You (너와의 모든 지금).wav',\n",
       " 'JANNABI(잔나비) - for lovers who hesitate (주저하는 연인들을 위해).wav',\n",
       " 'KISS OF LIFE, Hiss noise - Igloo (Igloo).wav',\n",
       " 'Lee Mujin - Coming Of Age Story.wav',\n",
       " 'Lim Young Woong - Do or Die (Do or Die).wav',\n",
       " 'Lim Young Woong - Home (Home).wav',\n",
       " 'Lim Young Woong - London Boy.wav',\n",
       " 'Lim Young Woong - Polaroid.wav',\n",
       " 'Lim Young Woong - Rainbow (무지개).wav',\n",
       " 'Maktub - 시작의 아이 ハジマリのコ (Starting With You).wav',\n",
       " 'MeloMance, Jeong DongHwan, MeloMance, Kim Min Seok - Love, Maybe (사랑인가 봐).wav',\n",
       " 'NewJeans - Bubble Gum.wav',\n",
       " 'NewJeans - Hype Boy.wav',\n",
       " 'PLAVE - Our Movie.wav',\n",
       " 'PLAVE - Pump Up The Volume!.wav',\n",
       " 'PLAVE - Virtual Idol.wav',\n",
       " 'PLAVE - Watch Me Woo!.wav',\n",
       " 'PLAVE - WAY 4 LUV.wav',\n",
       " 'QWER, Daily, JEON SOYEON, Likey, Pop Time, Daily, Likey, Pop Time, JEON SOYEON, JEON SOYEON - My Name is Malguem (내 이름 맑음).wav',\n",
       " 'QWER, Lee DongHyuk, Ayoung Han, Lee DongHyuk, HunGi Hong, Elum, GESTURE, Ayoung Han, Lee DongHyuk, GESTURE, Kim HyeJung, Elum, Magenta - T.B.H (고민중독).wav',\n",
       " 'RIIZE - Boom Boom Bass.wav',\n",
       " 'RIIZE - Hug.wav',\n",
       " 'RIIZE - Love 119.wav',\n",
       " 'TAEYEON - To. X.wav',\n",
       " 'TWS - 첫 만남은 계획대로 되지 않아.wav',\n",
       " 'WOODZ, NATHAN, HOHO, WOODZ, NATHAN, HOHO, WOODZ - Drowning (Drowning).wav',\n",
       " 'YENA - NEMONEMO.wav',\n",
       " 'YOUNHA, JEWNO, SHAUN, YOUNHA, JEWNO, YOUNHA - Event Horizon (사건의 지평선).wav',\n",
       " 'ZICO, JENNIE - SPOT! (feat. JENNIE).wav',\n",
       " '부석순 (SEVENTEEN) - 파이팅 해야지 (Feat. 이영지).wav']"
      ]
     },
     "execution_count": 16,
     "metadata": {},
     "output_type": "execute_result"
    }
   ],
   "source": [
    "answer"
   ]
  },
  {
   "cell_type": "code",
   "execution_count": 21,
   "id": "19ceed02",
   "metadata": {},
   "outputs": [
    {
     "data": {
      "text/plain": [
       "(53, 88)"
      ]
     },
     "execution_count": 21,
     "metadata": {},
     "output_type": "execute_result"
    }
   ],
   "source": [
    "len(answer),len(filelist)"
   ]
  },
  {
   "cell_type": "code",
   "execution_count": null,
   "id": "b2326bf8",
   "metadata": {},
   "outputs": [],
   "source": []
  }
 ],
 "metadata": {
  "kernelspec": {
   "display_name": "Python 3 (ipykernel)",
   "language": "python",
   "name": "python3"
  },
  "language_info": {
   "codemirror_mode": {
    "name": "ipython",
    "version": 3
   },
   "file_extension": ".py",
   "mimetype": "text/x-python",
   "name": "python",
   "nbconvert_exporter": "python",
   "pygments_lexer": "ipython3",
   "version": "3.10.9"
  }
 },
 "nbformat": 4,
 "nbformat_minor": 5
}
