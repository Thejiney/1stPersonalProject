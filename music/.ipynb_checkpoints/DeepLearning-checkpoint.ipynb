{
 "cells": [
  {
   "cell_type": "code",
   "execution_count": 1,
   "id": "ecdb20bc",
   "metadata": {},
   "outputs": [],
   "source": [
    "import numpy as np\n",
    "from tensorflow.keras.models import Sequential # 모델 생성\n",
    "from tensorflow.keras.layers import Dense, Input # 모델에 레이어 추가시\n",
    "import matplotlib.pyplot as plt\n",
    "from sklearn.model_selection import train_test_split\n",
    "from tensorflow.keras.callbacks import EarlyStopping\n",
    "import os"
   ]
  },
  {
   "cell_type": "code",
   "execution_count": 2,
   "id": "12370e59",
   "metadata": {},
   "outputs": [
    {
     "data": {
      "text/plain": [
       "(291, 1)"
      ]
     },
     "execution_count": 2,
     "metadata": {},
     "output_type": "execute_result"
    }
   ],
   "source": [
    "X_data=np.load(r'd:/ai/Downloads/Data/music/종속변수.npy')\n",
    "# Y_data.shape  ==> (291,1)\n",
    "Y_data=np.zeros((291,1))\n",
    "Y_data[120:,:]=1\n",
    "Y_data.shape"
   ]
  },
  {
   "cell_type": "code",
   "execution_count": 3,
   "id": "17cf8235",
   "metadata": {},
   "outputs": [
    {
     "data": {
      "text/plain": [
       "(291, 38, 1138)"
      ]
     },
     "execution_count": 3,
     "metadata": {},
     "output_type": "execute_result"
    }
   ],
   "source": [
    "X_data.shape"
   ]
  },
  {
   "cell_type": "code",
   "execution_count": 4,
   "id": "182fd221",
   "metadata": {},
   "outputs": [],
   "source": [
    "X_data=X_data.reshape(-1,38*1138)"
   ]
  },
  {
   "cell_type": "code",
   "execution_count": 5,
   "id": "d767e9df",
   "metadata": {},
   "outputs": [
    {
     "data": {
      "text/plain": [
       "(291, 43244)"
      ]
     },
     "execution_count": 5,
     "metadata": {},
     "output_type": "execute_result"
    }
   ],
   "source": [
    "X_data.shape"
   ]
  },
  {
   "cell_type": "code",
   "execution_count": 6,
   "id": "f5346fc3",
   "metadata": {},
   "outputs": [],
   "source": [
    "X_train, X_test, y_train, y_test = train_test_split(X_data, Y_data, test_size=0.2, random_state=42)"
   ]
  },
  {
   "cell_type": "code",
   "execution_count": 7,
   "id": "cea99973",
   "metadata": {},
   "outputs": [
    {
     "name": "stdout",
     "output_type": "stream",
     "text": [
      "Model: \"sequential\"\n",
      "_________________________________________________________________\n",
      " Layer (type)                Output Shape              Param #   \n",
      "=================================================================\n",
      " dense (Dense)               (None, 32)                1383840   \n",
      "                                                                 \n",
      " dense_1 (Dense)             (None, 64)                2112      \n",
      "                                                                 \n",
      " dense_2 (Dense)             (None, 128)               8320      \n",
      "                                                                 \n",
      " dense_3 (Dense)             (None, 32)                4128      \n",
      "                                                                 \n",
      " dense_4 (Dense)             (None, 1)                 33        \n",
      "                                                                 \n",
      "=================================================================\n",
      "Total params: 1,398,433\n",
      "Trainable params: 1,398,433\n",
      "Non-trainable params: 0\n",
      "_________________________________________________________________\n"
     ]
    }
   ],
   "source": [
    "model = Sequential()\n",
    "model.add(Input(shape=(38*1138,)))\n",
    "model.add(Dense(units=32, activation='relu'))\n",
    "model.add(Dense(units=64, activation='relu'))\n",
    "model.add(Dense(units=128, activation='relu'))\n",
    "model.add(Dense(units=32, activation='relu'))\n",
    "model.add(Dense(units=1, activation='sigmoid'))\n",
    "model.summary()"
   ]
  },
  {
   "cell_type": "code",
   "execution_count": 8,
   "id": "57b47091",
   "metadata": {},
   "outputs": [],
   "source": [
    "model.compile(loss='binary_crossentropy', optimizer='adam', metrics=['binary_accuracy'])"
   ]
  },
  {
   "cell_type": "code",
   "execution_count": 9,
   "id": "e55034bc",
   "metadata": {},
   "outputs": [
    {
     "name": "stdout",
     "output_type": "stream",
     "text": [
      "Epoch 1/200\n",
      "6/6 [==============================] - 1s 72ms/step - loss: 2.9187 - binary_accuracy: 0.6216 - val_loss: 1.0443 - val_binary_accuracy: 0.8723\n",
      "Epoch 2/200\n",
      "6/6 [==============================] - 0s 22ms/step - loss: 0.7630 - binary_accuracy: 0.8703 - val_loss: 1.1254 - val_binary_accuracy: 0.8723\n",
      "Epoch 3/200\n",
      "6/6 [==============================] - 0s 18ms/step - loss: 0.3257 - binary_accuracy: 0.9459 - val_loss: 1.1369 - val_binary_accuracy: 0.8723\n",
      "Epoch 4/200\n",
      "6/6 [==============================] - 0s 17ms/step - loss: 0.2762 - binary_accuracy: 0.9351 - val_loss: 1.1953 - val_binary_accuracy: 0.8936\n",
      "Epoch 5/200\n",
      "6/6 [==============================] - 0s 21ms/step - loss: 0.1396 - binary_accuracy: 0.9568 - val_loss: 1.3117 - val_binary_accuracy: 0.8511\n",
      "Epoch 6/200\n",
      "6/6 [==============================] - 0s 19ms/step - loss: 0.0953 - binary_accuracy: 0.9676 - val_loss: 1.2570 - val_binary_accuracy: 0.9149\n",
      "Epoch 7/200\n",
      "6/6 [==============================] - 0s 23ms/step - loss: 0.0193 - binary_accuracy: 0.9946 - val_loss: 1.7354 - val_binary_accuracy: 0.8298\n",
      "Epoch 8/200\n",
      "6/6 [==============================] - 0s 22ms/step - loss: 0.0246 - binary_accuracy: 0.9892 - val_loss: 1.3366 - val_binary_accuracy: 0.9362\n",
      "Epoch 9/200\n",
      "6/6 [==============================] - 0s 20ms/step - loss: 0.0066 - binary_accuracy: 0.9946 - val_loss: 1.4337 - val_binary_accuracy: 0.9149\n",
      "Epoch 10/200\n",
      "6/6 [==============================] - 0s 19ms/step - loss: 0.0032 - binary_accuracy: 1.0000 - val_loss: 1.3710 - val_binary_accuracy: 0.9149\n",
      "Epoch 11/200\n",
      "6/6 [==============================] - 0s 19ms/step - loss: 1.1717e-04 - binary_accuracy: 1.0000 - val_loss: 1.4701 - val_binary_accuracy: 0.8723\n",
      "Epoch 12/200\n",
      "6/6 [==============================] - 0s 19ms/step - loss: 2.2009e-05 - binary_accuracy: 1.0000 - val_loss: 1.5679 - val_binary_accuracy: 0.8936\n",
      "Epoch 13/200\n",
      "6/6 [==============================] - 0s 19ms/step - loss: 1.8897e-05 - binary_accuracy: 1.0000 - val_loss: 1.6337 - val_binary_accuracy: 0.8723\n",
      "Epoch 14/200\n",
      "6/6 [==============================] - 0s 19ms/step - loss: 1.7735e-05 - binary_accuracy: 1.0000 - val_loss: 1.6641 - val_binary_accuracy: 0.8723\n",
      "Epoch 15/200\n",
      "6/6 [==============================] - 0s 22ms/step - loss: 1.9508e-05 - binary_accuracy: 1.0000 - val_loss: 1.6746 - val_binary_accuracy: 0.8723\n",
      "Epoch 16/200\n",
      "6/6 [==============================] - 0s 20ms/step - loss: 1.4991e-05 - binary_accuracy: 1.0000 - val_loss: 1.6743 - val_binary_accuracy: 0.8723\n",
      "Epoch 17/200\n",
      "6/6 [==============================] - 0s 19ms/step - loss: 1.0445e-05 - binary_accuracy: 1.0000 - val_loss: 1.6722 - val_binary_accuracy: 0.8723\n",
      "Epoch 18/200\n",
      "6/6 [==============================] - 0s 19ms/step - loss: 8.4477e-06 - binary_accuracy: 1.0000 - val_loss: 1.6704 - val_binary_accuracy: 0.8723\n",
      "Epoch 19/200\n",
      "6/6 [==============================] - 0s 18ms/step - loss: 8.1153e-06 - binary_accuracy: 1.0000 - val_loss: 1.6676 - val_binary_accuracy: 0.8723\n",
      "Epoch 20/200\n",
      "6/6 [==============================] - 0s 22ms/step - loss: 7.3690e-06 - binary_accuracy: 1.0000 - val_loss: 1.6660 - val_binary_accuracy: 0.8723\n",
      "Epoch 21/200\n",
      "6/6 [==============================] - 0s 22ms/step - loss: 7.2265e-06 - binary_accuracy: 1.0000 - val_loss: 1.6641 - val_binary_accuracy: 0.8723\n",
      "Epoch 22/200\n",
      "6/6 [==============================] - 0s 22ms/step - loss: 6.9838e-06 - binary_accuracy: 1.0000 - val_loss: 1.6627 - val_binary_accuracy: 0.8723\n",
      "Epoch 23/200\n",
      "6/6 [==============================] - 0s 22ms/step - loss: 6.8797e-06 - binary_accuracy: 1.0000 - val_loss: 1.6614 - val_binary_accuracy: 0.8723\n",
      "Epoch 24/200\n",
      "6/6 [==============================] - 0s 20ms/step - loss: 6.7256e-06 - binary_accuracy: 1.0000 - val_loss: 1.6605 - val_binary_accuracy: 0.8723\n",
      "Epoch 25/200\n",
      "6/6 [==============================] - 0s 19ms/step - loss: 6.5879e-06 - binary_accuracy: 1.0000 - val_loss: 1.6598 - val_binary_accuracy: 0.8723\n",
      "Epoch 26/200\n",
      "6/6 [==============================] - 0s 20ms/step - loss: 6.5226e-06 - binary_accuracy: 1.0000 - val_loss: 1.6588 - val_binary_accuracy: 0.8723\n",
      "Epoch 27/200\n",
      "6/6 [==============================] - 0s 21ms/step - loss: 6.4160e-06 - binary_accuracy: 1.0000 - val_loss: 1.6585 - val_binary_accuracy: 0.8723\n",
      "Epoch 28/200\n",
      "6/6 [==============================] - 0s 20ms/step - loss: 6.3541e-06 - binary_accuracy: 1.0000 - val_loss: 1.6581 - val_binary_accuracy: 0.8723\n",
      "Epoch 29/200\n",
      "6/6 [==============================] - 0s 19ms/step - loss: 6.2458e-06 - binary_accuracy: 1.0000 - val_loss: 1.6578 - val_binary_accuracy: 0.8723\n",
      "Epoch 30/200\n",
      "6/6 [==============================] - 0s 25ms/step - loss: 6.1434e-06 - binary_accuracy: 1.0000 - val_loss: 1.6573 - val_binary_accuracy: 0.8723\n",
      "Epoch 31/200\n",
      "6/6 [==============================] - 0s 24ms/step - loss: 6.0809e-06 - binary_accuracy: 1.0000 - val_loss: 1.6571 - val_binary_accuracy: 0.8723\n",
      "Epoch 32/200\n",
      "6/6 [==============================] - 0s 19ms/step - loss: 6.0033e-06 - binary_accuracy: 1.0000 - val_loss: 1.6566 - val_binary_accuracy: 0.8723\n",
      "Epoch 33/200\n",
      "6/6 [==============================] - 0s 17ms/step - loss: 5.9278e-06 - binary_accuracy: 1.0000 - val_loss: 1.6564 - val_binary_accuracy: 0.8723\n",
      "Epoch 34/200\n",
      "6/6 [==============================] - 0s 18ms/step - loss: 5.8418e-06 - binary_accuracy: 1.0000 - val_loss: 1.6560 - val_binary_accuracy: 0.8723\n",
      "Epoch 35/200\n",
      "6/6 [==============================] - 0s 19ms/step - loss: 5.7922e-06 - binary_accuracy: 1.0000 - val_loss: 1.6560 - val_binary_accuracy: 0.8723\n",
      "Epoch 36/200\n",
      "6/6 [==============================] - 0s 18ms/step - loss: 5.7302e-06 - binary_accuracy: 1.0000 - val_loss: 1.6559 - val_binary_accuracy: 0.8723\n",
      "Epoch 37/200\n",
      "6/6 [==============================] - 0s 17ms/step - loss: 5.6434e-06 - binary_accuracy: 1.0000 - val_loss: 1.6554 - val_binary_accuracy: 0.8723\n",
      "Epoch 38/200\n",
      "6/6 [==============================] - 0s 18ms/step - loss: 5.5837e-06 - binary_accuracy: 1.0000 - val_loss: 1.6552 - val_binary_accuracy: 0.8723\n",
      "Epoch 39/200\n",
      "6/6 [==============================] - 0s 19ms/step - loss: 5.5182e-06 - binary_accuracy: 1.0000 - val_loss: 1.6550 - val_binary_accuracy: 0.8723\n",
      "Epoch 40/200\n",
      "6/6 [==============================] - 0s 17ms/step - loss: 5.4477e-06 - binary_accuracy: 1.0000 - val_loss: 1.6545 - val_binary_accuracy: 0.8723\n",
      "Epoch 41/200\n",
      "6/6 [==============================] - 0s 18ms/step - loss: 5.4061e-06 - binary_accuracy: 1.0000 - val_loss: 1.6543 - val_binary_accuracy: 0.8723\n"
     ]
    }
   ],
   "source": [
    "earlyStopping = EarlyStopping(patience=40)\n",
    "hist = model.fit(X_train, y_train, # 훈련데이터\n",
    "                 epochs=200,\n",
    "                 # batch_size=350,\n",
    "                 validation_split=0.2, # 검증 데이터 비율(훈련데이터셋 중 20%를 검증용 데이터로)\n",
    "                 callbacks=[earlyStopping]\n",
    "                )"
   ]
  },
  {
   "cell_type": "code",
   "execution_count": 55,
   "id": "9775dac6",
   "metadata": {},
   "outputs": [
    {
     "data": {
      "image/png": "[encoded data removed]",
      "text/plain": [
       "<Figure size 1200x500 with 2 Axes>"
      ]
     },
     "metadata": {},
     "output_type": "display_data"
    }
   ],
   "source": [
    "# 학습과정 표시하기(validation dataset 없는 경우)\n",
    "fig, loss_ax = plt.subplots(figsize=(12,5))\n",
    "plt.rcParams['font.size'] = 28\n",
    "loss_ax.plot(hist.history['loss'], 'r', label='train loss')\n",
    "loss_ax.plot(hist.history['val_loss'], 'y', label='validation loss')\n",
    "loss_ax.set_xlabel('epoch')\n",
    "loss_ax.set_ylabel('loss')\n",
    "acc_ax = loss_ax.twinx()\n",
    "acc_ax.plot(hist.history['binary_accuracy'], 'b', label='train accuracy')\n",
    "acc_ax.plot(hist.history['val_binary_accuracy'], 'g', label='validation accuracy')\n",
    "acc_ax.set_ylabel('accuracy')\n",
    "loss_ax.legend(loc='center right')\n",
    "acc_ax.legend(bbox_to_anchor=(0.999, 0.45))\n",
    "plt.show()"
   ]
  },
  {
   "cell_type": "code",
   "execution_count": 53,
   "id": "87c06259",
   "metadata": {},
   "outputs": [
    {
     "name": "stdout",
     "output_type": "stream",
     "text": [
      "8/8 [==============================] - 0s 4ms/step - loss: 0.5598 - binary_accuracy: 0.9698\n"
     ]
    },
    {
     "data": {
      "text/plain": [
       "[0.559831976890564, 0.9698275923728943]"
      ]
     },
     "execution_count": 53,
     "metadata": {},
     "output_type": "execute_result"
    }
   ],
   "source": [
    "model.evaluate(X_train, y_train)"
   ]
  },
  {
   "cell_type": "code",
   "execution_count": 116,
   "id": "195a9b29",
   "metadata": {
    "scrolled": true
   },
   "outputs": [
    {
     "name": "stdout",
     "output_type": "stream",
     "text": [
      "2/2 [==============================] - 0s 5ms/step - loss: 0.0924 - binary_accuracy: 0.9831\n",
      "loss : 0.09244932234287262, 정확도 : 98.30508232116699%\n"
     ]
    }
   ],
   "source": [
    "score = model.evaluate(X_test, y_test)\n",
    "print(\"loss : {}, 정확도 : {}%\".format(score[0], score[1]*100))"
   ]
  },
  {
   "cell_type": "code",
   "execution_count": 160,
   "id": "c5ef45b5",
   "metadata": {
    "scrolled": true
   },
   "outputs": [],
   "source": [
    "model.save('model/music_model.h5')\n",
    "model_json = model.to_json()\n",
    "with open('model/music_model.json','w') as f:\n",
    "    f.write(model_json)"
   ]
  },
  {
   "cell_type": "code",
   "execution_count": 151,
   "id": "560ced84",
   "metadata": {},
   "outputs": [],
   "source": [
    "# 학습된 모델 로드하기\n",
    "from tensorflow.keras.models import load_model\n",
    "model = load_model('model/music_model.h5')"
   ]
  },
  {
   "cell_type": "code",
   "execution_count": 152,
   "id": "5ca36fb8",
   "metadata": {},
   "outputs": [],
   "source": [
    "# 모델 사용\n",
    "X_data=np.load(r'd:/ai/Downloads/Data/music/melon.npy')\n",
    "X_data=X_data.reshape(-1,38*1138)"
   ]
  },
  {
   "cell_type": "code",
   "execution_count": 153,
   "id": "f127040b",
   "metadata": {},
   "outputs": [
    {
     "name": "stdout",
     "output_type": "stream",
     "text": [
      "3/3 [==============================] - 0s 4ms/step\n"
     ]
    }
   ],
   "source": [
    "Y=model.predict(X_data)"
   ]
  },
  {
   "cell_type": "code",
   "execution_count": 154,
   "id": "b58f4eff",
   "metadata": {},
   "outputs": [],
   "source": [
    "Y=(Y[:,0])"
   ]
  },
  {
   "cell_type": "code",
   "execution_count": 155,
   "id": "ec666199",
   "metadata": {},
   "outputs": [
    {
     "data": {
      "text/plain": [
       "array([1.00000000e+00, 1.00000000e+00, 1.00000000e+00, 1.00000000e+00,\n",
       "       0.00000000e+00, 1.00000000e+00, 1.00000000e+00, 1.00000000e+00,\n",
       "       9.99999881e-01, 1.00000000e+00, 1.00000000e+00, 1.29593974e-36,\n",
       "       1.00000000e+00, 1.00000000e+00, 1.00000000e+00, 1.00000000e+00,\n",
       "       1.00000000e+00, 1.00000000e+00, 7.04025163e-13, 9.91066277e-01,\n",
       "       1.00000000e+00, 1.21449921e-05, 1.00000000e+00, 1.00000000e+00,\n",
       "       6.93562873e-31, 5.77274419e-04, 8.90883811e-08, 1.00000000e+00,\n",
       "       1.00000000e+00, 1.00000000e+00, 9.99999940e-01, 0.00000000e+00,\n",
       "       3.31316991e-32, 9.43229720e-03, 1.14636096e-04, 1.00000000e+00,\n",
       "       2.90478597e-09, 9.83624845e-25, 3.86288837e-02, 1.82965513e-12,\n",
       "       1.00000000e+00, 2.23160061e-30, 9.99952793e-01, 1.41691573e-33,\n",
       "       1.00000000e+00, 1.32222332e-25, 1.00000000e+00, 1.00000000e+00,\n",
       "       6.69453696e-13, 4.56817180e-12, 1.00000000e+00, 1.00000000e+00,\n",
       "       1.89503553e-04, 9.99996483e-01, 9.99983966e-01, 8.60223413e-01,\n",
       "       9.93123651e-01, 0.00000000e+00, 2.59904066e-16, 1.82781350e-02,\n",
       "       9.98177886e-01, 1.00000000e+00, 1.00000000e+00, 1.00000000e+00,\n",
       "       1.00000000e+00, 1.00000000e+00, 1.00000000e+00, 1.00000000e+00,\n",
       "       1.00000000e+00, 9.99981880e-01, 1.00000000e+00, 5.53694181e-03,\n",
       "       8.91060591e-01, 0.00000000e+00, 9.99928415e-01, 1.00000000e+00,\n",
       "       0.00000000e+00, 1.00000000e+00, 9.99999881e-01, 2.84742437e-05,\n",
       "       1.00000000e+00, 1.00000000e+00, 7.63515115e-01, 9.99924362e-01,\n",
       "       2.91944644e-07, 1.77810819e-06, 4.15728590e-29, 9.42125857e-01],\n",
       "      dtype=float32)"
      ]
     },
     "execution_count": 155,
     "metadata": {},
     "output_type": "execute_result"
    }
   ],
   "source": [
    "Y"
   ]
  },
  {
   "cell_type": "code",
   "execution_count": 156,
   "id": "bb513a6e",
   "metadata": {},
   "outputs": [],
   "source": [
    "filepath=r'd:/ai/Downloads/Data/music/Melon Daily Top 100 _ 멜론 일간차트/'\n",
    "filelist=os.listdir(filepath)"
   ]
  },
  {
   "cell_type": "code",
   "execution_count": 157,
   "id": "1657cfb3",
   "metadata": {},
   "outputs": [
    {
     "data": {
      "text/plain": [
       "['(G)I-DLE - Fate (나는 아픈 건 딱 질색이니까).wav',\n",
       " '(G)I-DLE - Klaxon (클락션 (Klaxon)).wav',\n",
       " 'aespa - Drama.wav',\n",
       " 'aespa - UP (KARINA Solo).wav',\n",
       " 'AKMU - 어떻게 이별까지 사랑하겠어, 널 사랑하는 거지 (How can I love the heartbreak, you`re the one I love).wav',\n",
       " 'BABYMONSTER - DRIP.wav',\n",
       " 'BIGBANG - 봄여름가을겨울 (Still Life).wav',\n",
       " 'BOYNEXTDOOR - 오늘만 I LOVE YOU.wav',\n",
       " 'BSS (SEVENTEEN) - 청바지.wav',\n",
       " 'BTS (방탄소년단) - Dynamite.wav',\n",
       " 'BTS (방탄소년단) - 봄날.wav',\n",
       " 'Crush - 미안해 미워해 사랑해.wav',\n",
       " 'DAY6 - Congratulations.wav',\n",
       " 'DAY6 - HAPPY.wav',\n",
       " 'DAY6 - Welcome to the Show.wav',\n",
       " 'DAY6 - 녹아내려요 Melt Down.wav',\n",
       " 'DAY6 - 예뻤어 You Were Beautiful.wav',\n",
       " 'DAY6 - 한 페이지가 될 수 있게 Time of Our Life.wav',\n",
       " 'ECLIPSE - Sudden Shower.wav',\n",
       " 'EXO - 첫 눈 The First Snow.wav',\n",
       " 'fromis_9 - Supersonic.wav',\n",
       " 'G-DRAGON - 무제 (無題) (Untitled, 2014).wav',\n",
       " 'GFRIEND - 우리의 다정한 계절 속에 (Season of Memories).wav',\n",
       " 'GyeongseoYeji, Jeon Gunho - If you lovingly call my name (다정히 내 이름을 부르면).wav',\n",
       " 'Hwang Karam, woozoobe, lunch, lunch - I`m Firefly (나는 반딧불).wav',\n",
       " 'ILLIT - Cherish (My Love).wav',\n",
       " 'ILLIT - Magnetic.wav',\n",
       " 'IU, Donghwan Seo, Donghwan Seo, IU - Love wins all (Love wins all).wav',\n",
       " 'IVE - Queen of Hearts.wav',\n",
       " 'JAESSBEE, Hwang Hyun (MonoTree), Hwang Hyun (MonoTree), JeA (MonoTree), Kim Eana, J SQUARE - Every Moment With You (너와의 모든 지금).wav',\n",
       " 'JANNABI(잔나비) - for lovers who hesitate (주저하는 연인들을 위해).wav',\n",
       " 'Jung Seung Hwan - The Snowman (눈사람).wav',\n",
       " 'Kim Min Seok - DrunKen Confession.wav',\n",
       " 'KISS OF LIFE - Sticky (Sticky).wav',\n",
       " 'KISS OF LIFE, Hiss noise - Igloo (Igloo).wav',\n",
       " 'Lee Mujin - Coming Of Age Story.wav',\n",
       " 'Lee Mujin - Propose.wav',\n",
       " 'Lee Mujin, Heize - When it snows (Feat.Heize) (눈이 오잖아(Feat.헤이즈)).wav',\n",
       " 'Lee Young ji, D.O., PEEJAY, PEEJAY, Lee Young Ji, Lee Young Ji - Small girl (feat. D.O.) (Small girl).wav',\n",
       " 'Lim Jae Hyun - Rhapsody of Sadness.wav',\n",
       " 'Lim Young Woong - Do or Die (Do or Die).wav',\n",
       " 'Lim Young Woong - Grain of Sand (모래 알갱이).wav',\n",
       " 'Lim Young Woong - Home (Home).wav',\n",
       " 'Lim Young Woong - If We Ever Meet Again (다시 만날 수 있을까).wav',\n",
       " 'Lim Young Woong - London Boy.wav',\n",
       " 'Lim Young Woong - Our Blues, Our Life (우리들의 블루스).wav',\n",
       " 'Lim Young Woong - Polaroid.wav',\n",
       " 'Lim Young Woong - Rainbow (무지개).wav',\n",
       " 'Lim Young Woong - Trust in me (이제 나만 믿어요).wav',\n",
       " 'Lim Young Woong - Warmth (온기).wav',\n",
       " 'Maktub - 시작의 아이 ハジマリのコ (Starting With You).wav',\n",
       " 'MeloMance, Jeong DongHwan, MeloMance, Kim Min Seok - Love, Maybe (사랑인가 봐).wav',\n",
       " 'Nerd Connection - If I have you only (My love X Nerd Connection) (그대만 있다면 (여름날 우리 X 너드커넥션)).wav',\n",
       " 'NewJeans - Bubble Gum.wav',\n",
       " 'NewJeans - Ditto.wav',\n",
       " 'NewJeans - How Sweet.wav',\n",
       " 'NewJeans - Hype Boy.wav',\n",
       " 'Park Hyo Shin - HERO (From the Film ″Firefighters″).wav',\n",
       " 'Paul Kim - 모든 날, 모든 순간 Every day, Every Moment.wav',\n",
       " 'PLAVE - From.wav',\n",
       " 'PLAVE - Our Movie.wav',\n",
       " 'PLAVE - Pump Up The Volume!.wav',\n",
       " 'PLAVE - Virtual Idol.wav',\n",
       " 'PLAVE - Watch Me Woo!.wav',\n",
       " 'PLAVE - WAY 4 LUV.wav',\n",
       " 'QWER, Daily, JEON SOYEON, Likey, Pop Time, Daily, Likey, Pop Time, JEON SOYEON, JEON SOYEON - My Name is Malguem (내 이름 맑음).wav',\n",
       " 'QWER, Lee DongHyuk, Ayoung Han, Lee DongHyuk, HunGi Hong, Elum, GESTURE, Ayoung Han, Lee DongHyuk, GESTURE, Kim HyeJung, Elum, Magenta - T.B.H (고민중독).wav',\n",
       " 'RIIZE - Boom Boom Bass.wav',\n",
       " 'RIIZE - Hug.wav',\n",
       " 'RIIZE - Love 119.wav',\n",
       " 'Roy Kim - If You Ask Me What Love Is.wav',\n",
       " 'Seven (feat. Latto) - Clean Ver..wav',\n",
       " 'SoonSoonHee - To live.wav',\n",
       " 'Sung Si Kyung - Every moment of you (너의 모든 순간).wav',\n",
       " 'TAEYEON - To. X.wav',\n",
       " 'TWS - 첫 만남은 계획대로 되지 않아.wav',\n",
       " 'Woody - Flower in the Desert (Kor Version).wav',\n",
       " 'WOODZ, NATHAN, HOHO, WOODZ, NATHAN, HOHO, WOODZ - Drowning (Drowning).wav',\n",
       " 'YENA - NEMONEMO.wav',\n",
       " 'YOON JI HWAN - a sad invitation.wav',\n",
       " 'YOUNHA, JEWNO, SHAUN, YOUNHA, JEWNO, YOUNHA - Event Horizon (사건의 지평선).wav',\n",
       " 'ZICO, JENNIE - SPOT! (feat. JENNIE).wav',\n",
       " '범진(BUMJIN) - 인사.wav',\n",
       " '부석순 (SEVENTEEN) - 파이팅 해야지 (Feat. 이영지).wav',\n",
       " '이무진 - Episode.wav',\n",
       " '이창섭 - Heavenly fate.wav',\n",
       " '임영웅 - 사랑은 늘 도망가.wav',\n",
       " '카더가든 (Car, the garden) - 가까운 듯 먼 그대여 (Closely Far Away).wav']"
      ]
     },
     "execution_count": 157,
     "metadata": {},
     "output_type": "execute_result"
    }
   ],
   "source": [
    "filelist"
   ]
  },
  {
   "cell_type": "code",
   "execution_count": 158,
   "id": "f76c5227",
   "metadata": {},
   "outputs": [],
   "source": [
    "answer=[filename for filename, y in zip(filelist,Y) if y >= 0.2]"
   ]
  },
  {
   "cell_type": "code",
   "execution_count": 159,
   "id": "a65300bd",
   "metadata": {
    "scrolled": false
   },
   "outputs": [
    {
     "data": {
      "text/plain": [
       "['(G)I-DLE - Fate (나는 아픈 건 딱 질색이니까).wav',\n",
       " '(G)I-DLE - Klaxon (클락션 (Klaxon)).wav',\n",
       " 'aespa - Drama.wav',\n",
       " 'aespa - UP (KARINA Solo).wav',\n",
       " 'BABYMONSTER - DRIP.wav',\n",
       " 'BIGBANG - 봄여름가을겨울 (Still Life).wav',\n",
       " 'BOYNEXTDOOR - 오늘만 I LOVE YOU.wav',\n",
       " 'BSS (SEVENTEEN) - 청바지.wav',\n",
       " 'BTS (방탄소년단) - Dynamite.wav',\n",
       " 'BTS (방탄소년단) - 봄날.wav',\n",
       " 'DAY6 - Congratulations.wav',\n",
       " 'DAY6 - HAPPY.wav',\n",
       " 'DAY6 - Welcome to the Show.wav',\n",
       " 'DAY6 - 녹아내려요 Melt Down.wav',\n",
       " 'DAY6 - 예뻤어 You Were Beautiful.wav',\n",
       " 'DAY6 - 한 페이지가 될 수 있게 Time of Our Life.wav',\n",
       " 'EXO - 첫 눈 The First Snow.wav',\n",
       " 'fromis_9 - Supersonic.wav',\n",
       " 'GFRIEND - 우리의 다정한 계절 속에 (Season of Memories).wav',\n",
       " 'GyeongseoYeji, Jeon Gunho - If you lovingly call my name (다정히 내 이름을 부르면).wav',\n",
       " 'IU, Donghwan Seo, Donghwan Seo, IU - Love wins all (Love wins all).wav',\n",
       " 'IVE - Queen of Hearts.wav',\n",
       " 'JAESSBEE, Hwang Hyun (MonoTree), Hwang Hyun (MonoTree), JeA (MonoTree), Kim Eana, J SQUARE - Every Moment With You (너와의 모든 지금).wav',\n",
       " 'JANNABI(잔나비) - for lovers who hesitate (주저하는 연인들을 위해).wav',\n",
       " 'Lee Mujin - Coming Of Age Story.wav',\n",
       " 'Lim Young Woong - Do or Die (Do or Die).wav',\n",
       " 'Lim Young Woong - Home (Home).wav',\n",
       " 'Lim Young Woong - London Boy.wav',\n",
       " 'Lim Young Woong - Polaroid.wav',\n",
       " 'Lim Young Woong - Rainbow (무지개).wav',\n",
       " 'Maktub - 시작의 아이 ハジマリのコ (Starting With You).wav',\n",
       " 'MeloMance, Jeong DongHwan, MeloMance, Kim Min Seok - Love, Maybe (사랑인가 봐).wav',\n",
       " 'NewJeans - Bubble Gum.wav',\n",
       " 'NewJeans - Ditto.wav',\n",
       " 'NewJeans - How Sweet.wav',\n",
       " 'NewJeans - Hype Boy.wav',\n",
       " 'PLAVE - Our Movie.wav',\n",
       " 'PLAVE - Pump Up The Volume!.wav',\n",
       " 'PLAVE - Virtual Idol.wav',\n",
       " 'PLAVE - Watch Me Woo!.wav',\n",
       " 'PLAVE - WAY 4 LUV.wav',\n",
       " 'QWER, Daily, JEON SOYEON, Likey, Pop Time, Daily, Likey, Pop Time, JEON SOYEON, JEON SOYEON - My Name is Malguem (내 이름 맑음).wav',\n",
       " 'QWER, Lee DongHyuk, Ayoung Han, Lee DongHyuk, HunGi Hong, Elum, GESTURE, Ayoung Han, Lee DongHyuk, GESTURE, Kim HyeJung, Elum, Magenta - T.B.H (고민중독).wav',\n",
       " 'RIIZE - Boom Boom Bass.wav',\n",
       " 'RIIZE - Hug.wav',\n",
       " 'RIIZE - Love 119.wav',\n",
       " 'Roy Kim - If You Ask Me What Love Is.wav',\n",
       " 'SoonSoonHee - To live.wav',\n",
       " 'TAEYEON - To. X.wav',\n",
       " 'TWS - 첫 만남은 계획대로 되지 않아.wav',\n",
       " 'WOODZ, NATHAN, HOHO, WOODZ, NATHAN, HOHO, WOODZ - Drowning (Drowning).wav',\n",
       " 'YENA - NEMONEMO.wav',\n",
       " 'YOUNHA, JEWNO, SHAUN, YOUNHA, JEWNO, YOUNHA - Event Horizon (사건의 지평선).wav',\n",
       " 'ZICO, JENNIE - SPOT! (feat. JENNIE).wav',\n",
       " '범진(BUMJIN) - 인사.wav',\n",
       " '부석순 (SEVENTEEN) - 파이팅 해야지 (Feat. 이영지).wav',\n",
       " '카더가든 (Car, the garden) - 가까운 듯 먼 그대여 (Closely Far Away).wav']"
      ]
     },
     "execution_count": 159,
     "metadata": {},
     "output_type": "execute_result"
    }
   ],
   "source": [
    "answer"
   ]
  },
  {
   "cell_type": "code",
   "execution_count": 149,
   "id": "19ceed02",
   "metadata": {},
   "outputs": [],
   "source": []
  },
  {
   "cell_type": "code",
   "execution_count": null,
   "id": "b2326bf8",
   "metadata": {},
   "outputs": [],
   "source": []
  }
 ],
 "metadata": {
  "kernelspec": {
   "display_name": "Python 3 (ipykernel)",
   "language": "python",
   "name": "python3"
  },
  "language_info": {
   "codemirror_mode": {
    "name": "ipython",
    "version": 3
   },
   "file_extension": ".py",
   "mimetype": "text/x-python",
   "name": "python",
   "nbconvert_exporter": "python",
   "pygments_lexer": "ipython3",
   "version": "3.10.9"
  }
 },
 "nbformat": 4,
 "nbformat_minor": 5
}
