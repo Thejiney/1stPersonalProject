{
 "cells": [
  {
   "cell_type": "code",
   "execution_count": 1,
   "id": "256965cc",
   "metadata": {},
   "outputs": [],
   "source": [
    "import pandas as pd\n",
    "# 그래프 저장시 해상도 높게\n",
    "%config InlineBackend.figure_format = \"retina\"\n",
    "import matplotlib.pyplot as plt\n",
    "import seaborn as sns\n",
    "# 한글설정\n",
    "plt.rc('font', family='Malgun Gothic') # 윈도우즈\n",
    "plt.rc('axes', unicode_minus=False) # 축의 - 깨짐 방지\n",
    "# warning(경고) 안보이게\n",
    "import warnings\n",
    "warnings.filterwarnings(action='ignore') # 경고 메세지 안 보이게\n",
    "# warnings.filterwarnings(action='default') # 경고 메세지 보이게"
   ]
  },
  {
   "cell_type": "code",
   "execution_count": 2,
   "id": "686923a3",
   "metadata": {},
   "outputs": [],
   "source": [
    "filepath='D:/ai/Downloads/Data/apt/'"
   ]
  },
  {
   "cell_type": "code",
   "execution_count": 3,
   "id": "49f25c79",
   "metadata": {},
   "outputs": [],
   "source": [
    "df = pd.read_csv(filepath+'실거래가_정리.csv')\n",
    "df_only = pd.read_csv(filepath+'1인가구.csv')\n",
    "df_all = pd.read_csv(filepath+'주민등록.csv')"
   ]
  },
  {
   "cell_type": "code",
   "execution_count": 4,
   "id": "ad4c47fb",
   "metadata": {},
   "outputs": [],
   "source": [
    "df_merge=pd.merge(df_only,df,on=['시도명','시군구명','읍면동명'],how='outer')\n",
    "df_merge=pd.merge(df_merge,df_all,on=['시도명','시군구명','읍면동명'],how='outer')"
   ]
  },
  {
   "cell_type": "code",
   "execution_count": 5,
   "id": "2a17571c",
   "metadata": {
    "scrolled": false
   },
   "outputs": [],
   "source": [
    "df_merge=df_merge.drop(list(df_merge[df_merge['면적당금액(만원)'].isna()].index),axis=0)\n",
    "df_merge=df_merge.drop(list(df_merge[df_merge['18세미만 1인가구수'].isna()].index),axis=0)"
   ]
  },
  {
   "cell_type": "code",
   "execution_count": 6,
   "id": "8461e73b",
   "metadata": {
    "scrolled": false
   },
   "outputs": [
    {
     "data": {
      "text/html": [
       "<div>\n",
       "<style scoped>\n",
       "    .dataframe tbody tr th:only-of-type {\n",
       "        vertical-align: middle;\n",
       "    }\n",
       "\n",
       "    .dataframe tbody tr th {\n",
       "        vertical-align: top;\n",
       "    }\n",
       "\n",
       "    .dataframe thead th {\n",
       "        text-align: right;\n",
       "    }\n",
       "</style>\n",
       "<table border=\"1\" class=\"dataframe\">\n",
       "  <thead>\n",
       "    <tr style=\"text-align: right;\">\n",
       "      <th></th>\n",
       "      <th>시도명</th>\n",
       "      <th>시군구명</th>\n",
       "      <th>읍면동명</th>\n",
       "      <th>18세미만 1인가구수</th>\n",
       "      <th>면적당금액(만원)</th>\n",
       "      <th>18세미만 주민등록 인구수</th>\n",
       "      <th>인구비율</th>\n",
       "    </tr>\n",
       "  </thead>\n",
       "  <tbody>\n",
       "    <tr>\n",
       "      <th>0</th>\n",
       "      <td>서울특별시</td>\n",
       "      <td>종로구</td>\n",
       "      <td>사직동</td>\n",
       "      <td>2.0</td>\n",
       "      <td>1254.0</td>\n",
       "      <td>928.0</td>\n",
       "      <td>0.002155</td>\n",
       "    </tr>\n",
       "    <tr>\n",
       "      <th>2</th>\n",
       "      <td>서울특별시</td>\n",
       "      <td>종로구</td>\n",
       "      <td>부암동</td>\n",
       "      <td>2.0</td>\n",
       "      <td>631.0</td>\n",
       "      <td>982.0</td>\n",
       "      <td>0.002037</td>\n",
       "    </tr>\n",
       "    <tr>\n",
       "      <th>3</th>\n",
       "      <td>서울특별시</td>\n",
       "      <td>종로구</td>\n",
       "      <td>평창동</td>\n",
       "      <td>12.0</td>\n",
       "      <td>756.0</td>\n",
       "      <td>2170.0</td>\n",
       "      <td>0.005530</td>\n",
       "    </tr>\n",
       "    <tr>\n",
       "      <th>6</th>\n",
       "      <td>서울특별시</td>\n",
       "      <td>종로구</td>\n",
       "      <td>혜화동</td>\n",
       "      <td>5.0</td>\n",
       "      <td>830.0</td>\n",
       "      <td>1302.0</td>\n",
       "      <td>0.003840</td>\n",
       "    </tr>\n",
       "    <tr>\n",
       "      <th>16</th>\n",
       "      <td>서울특별시</td>\n",
       "      <td>중구</td>\n",
       "      <td>신당동</td>\n",
       "      <td>3.0</td>\n",
       "      <td>1335.0</td>\n",
       "      <td>404.0</td>\n",
       "      <td>0.007426</td>\n",
       "    </tr>\n",
       "    <tr>\n",
       "      <th>...</th>\n",
       "      <td>...</td>\n",
       "      <td>...</td>\n",
       "      <td>...</td>\n",
       "      <td>...</td>\n",
       "      <td>...</td>\n",
       "      <td>...</td>\n",
       "      <td>...</td>\n",
       "    </tr>\n",
       "    <tr>\n",
       "      <th>2400</th>\n",
       "      <td>전북특별자치도</td>\n",
       "      <td>고창군</td>\n",
       "      <td>고창읍</td>\n",
       "      <td>1.0</td>\n",
       "      <td>215.0</td>\n",
       "      <td>3299.0</td>\n",
       "      <td>0.000303</td>\n",
       "    </tr>\n",
       "    <tr>\n",
       "      <th>2403</th>\n",
       "      <td>전북특별자치도</td>\n",
       "      <td>부안군</td>\n",
       "      <td>부안읍</td>\n",
       "      <td>11.0</td>\n",
       "      <td>182.0</td>\n",
       "      <td>3039.0</td>\n",
       "      <td>0.003620</td>\n",
       "    </tr>\n",
       "    <tr>\n",
       "      <th>2406</th>\n",
       "      <td>전북특별자치도</td>\n",
       "      <td>부안군</td>\n",
       "      <td>변산면</td>\n",
       "      <td>1.0</td>\n",
       "      <td>132.0</td>\n",
       "      <td>271.0</td>\n",
       "      <td>0.003690</td>\n",
       "    </tr>\n",
       "    <tr>\n",
       "      <th>2407</th>\n",
       "      <td>전북특별자치도</td>\n",
       "      <td>부안군</td>\n",
       "      <td>진서면</td>\n",
       "      <td>2.0</td>\n",
       "      <td>102.0</td>\n",
       "      <td>117.0</td>\n",
       "      <td>0.017094</td>\n",
       "    </tr>\n",
       "    <tr>\n",
       "      <th>2410</th>\n",
       "      <td>전북특별자치도</td>\n",
       "      <td>부안군</td>\n",
       "      <td>줄포면</td>\n",
       "      <td>1.0</td>\n",
       "      <td>310.0</td>\n",
       "      <td>129.0</td>\n",
       "      <td>0.007752</td>\n",
       "    </tr>\n",
       "  </tbody>\n",
       "</table>\n",
       "<p>768 rows × 7 columns</p>\n",
       "</div>"
      ],
      "text/plain": [
       "          시도명 시군구명 읍면동명  18세미만 1인가구수  면적당금액(만원)  18세미만 주민등록 인구수      인구비율\n",
       "0       서울특별시  종로구  사직동          2.0     1254.0           928.0  0.002155\n",
       "2       서울특별시  종로구  부암동          2.0      631.0           982.0  0.002037\n",
       "3       서울특별시  종로구  평창동         12.0      756.0          2170.0  0.005530\n",
       "6       서울특별시  종로구  혜화동          5.0      830.0          1302.0  0.003840\n",
       "16      서울특별시   중구  신당동          3.0     1335.0           404.0  0.007426\n",
       "...       ...  ...  ...          ...        ...             ...       ...\n",
       "2400  전북특별자치도  고창군  고창읍          1.0      215.0          3299.0  0.000303\n",
       "2403  전북특별자치도  부안군  부안읍         11.0      182.0          3039.0  0.003620\n",
       "2406  전북특별자치도  부안군  변산면          1.0      132.0           271.0  0.003690\n",
       "2407  전북특별자치도  부안군  진서면          2.0      102.0           117.0  0.017094\n",
       "2410  전북특별자치도  부안군  줄포면          1.0      310.0           129.0  0.007752\n",
       "\n",
       "[768 rows x 7 columns]"
      ]
     },
     "execution_count": 6,
     "metadata": {},
     "output_type": "execute_result"
    }
   ],
   "source": [
    "df_merge['인구비율']=df_merge['18세미만 1인가구수']/df_merge['18세미만 주민등록 인구수']\n",
    "df_merge"
   ]
  },
  {
   "cell_type": "code",
   "execution_count": 7,
   "id": "77706cd2",
   "metadata": {
    "scrolled": true
   },
   "outputs": [
    {
     "data": {
      "text/plain": [
       "['서울특별시', '부산광역시', '대구광역시', '인천광역시', '광주광역시', '대전광역시', '울산광역시', '세종특별자치시']"
      ]
     },
     "execution_count": 7,
     "metadata": {},
     "output_type": "execute_result"
    }
   ],
   "source": [
    "idx=list(df_merge[df_merge['시도명'].str.contains('특별시|광역시|자치시')]['시도명'].unique())\n",
    "idx"
   ]
  },
  {
   "cell_type": "code",
   "execution_count": null,
   "id": "6ae40fe7",
   "metadata": {},
   "outputs": [
    {
     "name": "stdout",
     "output_type": "stream",
     "text": [
      "서울특별시\n"
     ]
    }
   ],
   "source": [
    "for i in idx:\n",
    "    print(i)\n",
    "    plt.figure(figsize=(40,10))\n",
    "    temp=df_merge[df_merge['시도명']==i]\n",
    "    ax = sns.barplot(data=temp, x='면적당금액(만원)', y='18세미만 1인가구수',)\n",
    "    x=0\n",
    "    for p in ax.patches:\n",
    "        ax.text(\n",
    "            p.get_x() + p.get_width() / 2,  # 막대의 중앙\n",
    "            p.get_height(),          # 막대 높이 위에 약간 띄운 위치\n",
    "            temp['시군구명'].iloc[x]+'_'+temp['읍면동명'].iloc[x],      # 표시할 값 (정수로 변환)\n",
    "            ha='center',                   # 수평 정렬\n",
    "            va='bottom',                   # 수직 정렬\n",
    "            fontsize=10                    # 글꼴 크기\n",
    "        )\n",
    "        x+=1\n",
    "    plt.savefig(f'{filepath}png/{i}금액_1인가구수.png',dpi=300,bbox_inches='tight')\n",
    "    plt.show()"
   ]
  },
  {
   "cell_type": "code",
   "execution_count": null,
   "id": "43b53347",
   "metadata": {},
   "outputs": [],
   "source": [
    "idx=list(df_merge[~df_merge['시도명'].str.contains('특별시|광역시|자치시')]['시도명'].unique())\n",
    "idx"
   ]
  },
  {
   "cell_type": "code",
   "execution_count": null,
   "id": "f05e12b3",
   "metadata": {
    "scrolled": true
   },
   "outputs": [],
   "source": [
    "for i in idx:\n",
    "    print(i)\n",
    "    idx_j=list(df_merge[df_merge['시도명']==i]['시군구명'].unique())\n",
    "    for j in idx_j:\n",
    "        plt.figure(figsize=(40,10))\n",
    "        temp=df_merge[(df_merge['시도명']==i)&(df_merge['시군구명']==j)]\n",
    "        if(len(temp)<=4):\n",
    "            continue\n",
    "        ax = sns.barplot(data=temp, x='면적당금액(만원)', y='18세미만 1인가구수',)\n",
    "        x=0\n",
    "        for p in ax.patches:\n",
    "            ax.text(\n",
    "                p.get_x() + p.get_width() / 2,  # 막대의 중앙\n",
    "                p.get_height(),          # 막대 높이 위에 약간 띄운 위치\n",
    "                temp['읍면동명'].iloc[x],      # 표시할 값 (정수로 변환)\n",
    "                ha='center',                   # 수평 정렬\n",
    "                va='bottom',                   # 수직 정렬\n",
    "                fontsize=10                    # 글꼴 크기\n",
    "            )\n",
    "            x+=1\n",
    "        plt.title(f'{i}_{j}', fontsize=16)\n",
    "        plt.savefig(f'{filepath}png/{i}_{j}_금액_1인가구수.png',dpi=300,bbox_inches='tight')\n",
    "        plt.show()"
   ]
  }
 ],
 "metadata": {
  "kernelspec": {
   "display_name": "Python 3 (ipykernel)",
   "language": "python",
   "name": "python3"
  },
  "language_info": {
   "codemirror_mode": {
    "name": "ipython",
    "version": 3
   },
   "file_extension": ".py",
   "mimetype": "text/x-python",
   "name": "python",
   "nbconvert_exporter": "python",
   "pygments_lexer": "ipython3",
   "version": "3.10.9"
  },
  "toc": {
   "base_numbering": 1,
   "nav_menu": {},
   "number_sections": true,
   "sideBar": true,
   "skip_h1_title": false,
   "title_cell": "Table of Contents",
   "title_sidebar": "Contents",
   "toc_cell": false,
   "toc_position": {},
   "toc_section_display": true,
   "toc_window_display": false
  }
 },
 "nbformat": 4,
 "nbformat_minor": 5
}
